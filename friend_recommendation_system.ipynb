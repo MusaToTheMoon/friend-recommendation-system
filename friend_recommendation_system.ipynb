{
  "nbformat": 4,
  "nbformat_minor": 0,
  "metadata": {
    "colab": {
      "provenance": []
    },
    "kernelspec": {
      "name": "python3",
      "display_name": "Python 3"
    },
    "language_info": {
      "name": "python"
    }
  },
  "cells": [
    {
      "cell_type": "markdown",
      "source": [
        "<a href=\"https://colab.research.google.com/drive/1v2XlId0Vk0HUB8As9y0Rnw88Iw7LaNP5?usp=sharing\" target=\"_parent\"><img src=\"https://colab.research.google.com/assets/colab-badge.svg\" alt=\"Open In Colab\"/></a>\n",
        "\n",
        "# Friend Recommendation System"
      ],
      "metadata": {
        "id": "zfZ5slM4mHdH"
      }
    },
    {
      "cell_type": "code",
      "source": [
        "import networkx as nx\n",
        "import random\n",
        "\n",
        "NUM_USERS = 1000 # no. user in the network\n",
        "AVG_FRIENDS = 5 # average friends per user\n",
        "NUM_RECOM = 7 # desired no. recommendations\n",
        "\n",
        "class FriendshipRecommendationSystem:\n",
        "    def __init__(self, num_users, avg_friends_per_user):\n",
        "        self.social_network = nx.barabasi_albert_graph(num_users, avg_friends_per_user)\n",
        "\n",
        "    def recommend_friends(self, user, num_recommendations=5):\n",
        "        # get the neighbors (friends) of the user\n",
        "        friends = set(self.social_network.neighbors(user))\n",
        "\n",
        "        all_nodes = list(self.social_network.nodes())\n",
        "        scores = {} # dictionary to store recommendation scores\n",
        "\n",
        "        # only a subset of nodes are iterated over to reduce computation time\n",
        "        for other_user in random.sample(all_nodes, min(1000, len(all_nodes))):\n",
        "            if other_user != user and other_user not in friends: # locate non-friend users of the 'user'\n",
        "                # mutual freinds -> present in neighbors of both users\n",
        "                mutual_friends = friends.intersection(set(self.social_network.neighbors(other_user)))\n",
        "                scores[other_user] = len(mutual_friends) # no. mutual friends used as score\n",
        "\n",
        "        # return the recommended users with the highest scores\n",
        "        sorted_scores = sorted(scores.items(), key=lambda x: x[1], reverse=True)\n",
        "        return [user for user, _ in sorted_scores[:num_recommendations]]\n",
        "\n",
        "\n",
        "# Usage:\n",
        "# generate an example network: 1000 users, 5 average friends per user\n",
        "recommendation_system = FriendshipRecommendationSystem(num_users, avg_friends)\n",
        "\n",
        "# recommend friends for a randomly chosen user\n",
        "selected_user = random.choice(list(recommendation_system.social_network.nodes()))\n",
        "recommended_friends = recommendation_system.recommend_friends(selected_user, NUM_RECOM)\n",
        "print(f\"Friend Recommendations for User {selected_user}:\\nUsers: {recommended_friends}\")"
      ],
      "metadata": {
        "colab": {
          "base_uri": "https://localhost:8080/"
        },
        "id": "bd5Hcy3sSGQv",
        "outputId": "93a92de2-c5d6-4088-ca23-9949753f1aae"
      },
      "execution_count": 21,
      "outputs": [
        {
          "output_type": "stream",
          "name": "stdout",
          "text": [
            "Friend Recommendations for User 794:\n",
            "Users: [8, 22, 13, 129, 666, 161, 715]\n"
          ]
        }
      ]
    }
  ]
}